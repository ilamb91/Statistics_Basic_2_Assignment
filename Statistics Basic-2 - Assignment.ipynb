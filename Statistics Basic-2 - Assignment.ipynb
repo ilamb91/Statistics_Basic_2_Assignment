{
 "cells": [
  {
   "cell_type": "markdown",
   "id": "b66593e7-5cde-4367-ba63-31fa4656ea1b",
   "metadata": {},
   "source": [
    "# Q1. What are the three measures of central tendency?"
   ]
  },
  {
   "cell_type": "markdown",
   "id": "476d134e-2d7a-4e68-92f6-729974db5663",
   "metadata": {},
   "source": [
    "A1: There are three main measures of central tendency: mode. median. mean."
   ]
  },
  {
   "cell_type": "markdown",
   "id": "509688a1-bd81-4980-9d5c-fe99e08df8e0",
   "metadata": {},
   "source": [
    "# Q2. What is the difference between the mean, median, and mode? How are they used to measure the central tendency of a dataset?"
   ]
  },
  {
   "cell_type": "markdown",
   "id": "d1f47469-b8fc-4c12-bd44-86390002416b",
   "metadata": {},
   "source": [
    "- Mean: Mean, here the arithmetic mean is the most used measure of central tendency. With both discrete and continuous data set, a mean can be obtained. To obtain the mean of a set of numbers, you have to sum up all the numbers and then divide it using the total numbers. In short, it is taking out the average of all numbers. It can also be said that it is the ratio of the sum of all observations to the total no of observations. In pre-primary classes, it was introduced as average to the students while in higher classes we came to know that it is also known as Mean. \n",
    "\n",
    "- Median: When you arrange a given set of numbers from smaller to biggest, the middle number is said to be the median. Arrange any given series in either ascending or descending order or the middle value then is termed as the median. To find the median the data can be arranged in either descending order or ascending order. In geometry, it is defined as the centre or midpoint of a polygon. \n",
    "\n",
    "- Mode: The most repeated number in a given set of observations is the mode or it can also be said that the Number or Value which have the highest frequency in a given series of numbers. It is also known as the modal value. It is a part of 3 central tendencies apart from the median and Mean. It is the highest bar if presented in a histogram or a chart form.  If there is no repeated number in a given series then no Mode will exist for that series.\n",
    "\n",
    "- The central tendency can be found using the formulas of mean, median or mode in most of the cases. As we know, mean is the average of a given data set, median is the middlemost data value and the mode represents the most frequently occurring data value in the set."
   ]
  },
  {
   "cell_type": "markdown",
   "id": "21b4eee1-b491-4455-ba6a-d68018914b03",
   "metadata": {},
   "source": [
    "# Q3. Measure the three measures of central tendency for the given height data:\n",
    "[178,177,176,177,178.2,178,175,179,180,175,178.9,176.2,177,172.5,178,176.5]"
   ]
  },
  {
   "cell_type": "code",
   "execution_count": 1,
   "id": "d224674e-dd37-47e1-9cc2-04be60d9f4dc",
   "metadata": {},
   "outputs": [],
   "source": [
    "import numpy as np"
   ]
  },
  {
   "cell_type": "code",
   "execution_count": 2,
   "id": "c1e72d82-e411-4c11-aa57-55d7d61fc1e1",
   "metadata": {},
   "outputs": [],
   "source": [
    "Q3 = [178,177,176,177,178.2,178,175,179,180,175,178.9,176.2,177,172.5,178,176.5]"
   ]
  },
  {
   "cell_type": "code",
   "execution_count": 3,
   "id": "04f989fd-0400-402d-81bc-f0fb7437b3b9",
   "metadata": {},
   "outputs": [
    {
     "data": {
      "text/plain": [
       "177.01875"
      ]
     },
     "execution_count": 3,
     "metadata": {},
     "output_type": "execute_result"
    }
   ],
   "source": [
    "np.mean(Q3)"
   ]
  },
  {
   "cell_type": "code",
   "execution_count": 4,
   "id": "ec8fcd1e-f7b2-4bf3-aa52-eedd74bad197",
   "metadata": {},
   "outputs": [
    {
     "data": {
      "text/plain": [
       "177.0"
      ]
     },
     "execution_count": 4,
     "metadata": {},
     "output_type": "execute_result"
    }
   ],
   "source": [
    "np.median(Q3)"
   ]
  },
  {
   "cell_type": "code",
   "execution_count": 5,
   "id": "d336c29f-fe06-45fe-9712-69e5b2a69ed7",
   "metadata": {},
   "outputs": [],
   "source": [
    "from scipy import stats"
   ]
  },
  {
   "cell_type": "code",
   "execution_count": 6,
   "id": "dce55976-ed49-48d5-8edf-042b554ad109",
   "metadata": {},
   "outputs": [
    {
     "name": "stderr",
     "output_type": "stream",
     "text": [
      "/tmp/ipykernel_70/2518358873.py:1: FutureWarning: Unlike other reduction functions (e.g. `skew`, `kurtosis`), the default behavior of `mode` typically preserves the axis it acts along. In SciPy 1.11.0, this behavior will change: the default value of `keepdims` will become False, the `axis` over which the statistic is taken will be eliminated, and the value None will no longer be accepted. Set `keepdims` to True or False to avoid this warning.\n",
      "  stats.mode(Q3)\n"
     ]
    },
    {
     "data": {
      "text/plain": [
       "ModeResult(mode=array([177.]), count=array([3]))"
      ]
     },
     "execution_count": 6,
     "metadata": {},
     "output_type": "execute_result"
    }
   ],
   "source": [
    "stats.mode(Q3)"
   ]
  },
  {
   "cell_type": "markdown",
   "id": "c9d9e87a-25dd-4922-bd03-4667081855b2",
   "metadata": {},
   "source": [
    "# Q4. Find the standard deviation for the given data:\n",
    "[178,177,176,177,178.2,178,175,179,180,175,178.9,176.2,177,172.5,178,176.5]"
   ]
  },
  {
   "cell_type": "code",
   "execution_count": 7,
   "id": "1bd7fd63-e2f0-460c-9843-dcae3a8e0a3b",
   "metadata": {},
   "outputs": [],
   "source": [
    "Q4 = [178,177,176,177,178.2,178,175,179,180,175,178.9,176.2,177,172.5,178,176.5]"
   ]
  },
  {
   "cell_type": "code",
   "execution_count": 8,
   "id": "cc87a7b0-e437-4fca-a2fc-585bd098f128",
   "metadata": {},
   "outputs": [
    {
     "data": {
      "text/plain": [
       "1.7885814036548633"
      ]
     },
     "execution_count": 8,
     "metadata": {},
     "output_type": "execute_result"
    }
   ],
   "source": [
    "np.std(Q4)"
   ]
  },
  {
   "cell_type": "markdown",
   "id": "03ba2f2a-1fb1-4efe-8c79-64bec9a6412f",
   "metadata": {},
   "source": [
    "# Q5. How are measures of dispersion such as range, variance, and standard deviation used to describe the spread of a dataset? Provide an example."
   ]
  },
  {
   "cell_type": "markdown",
   "id": "066f9b60-c32a-40c3-aa17-64b58ccff7b2",
   "metadata": {},
   "source": [
    "A5 : Collecting the data and representing it in form of tables, graphs, and other distributions is essential for us. But, it is also essential that we get a fair idea about how the data is distributed, how scattered it is, and what is the mean of the data. The measures of the mean are not enough to describe the data and its nature. We also need to measure the dispersion in the data with respect to different statistics of the data. For example, we need to be able to answer the questions like, How much is the dispersion of the surrounding data’s mean, or its median. These values allow us to describe the data in a better way. \n",
    "\n",
    "# Range\n",
    "- The range of the data is given as the difference between the maximum and the minimum values of the observations in the data. For example, let’s say we have data on the number of customers walking in the store in a week. \n",
    "- 10, 14, 8, 10, 15, 4, 7\n",
    "- Minimum value in data = 7 \n",
    "- Maximum Value in the data = 15\n",
    "- Range = Maximum Value in the data – Minimum value in the data  \n",
    "           = 15 – 7 \n",
    "           = 8 \n",
    "- Now we can say that the range of the data is 8. This gives us an idea about the spread of the data but doesn’t tell how the data is distributed.\n",
    "\n",
    "# Variance \n",
    "- The variance of the data is given by measuring the distance of the observed values from the mean of the distribution. Here we are not concerned with the sign of the distance of the point, we are more interested in the magnitude. So, we take squares of the distance from the mean. \n",
    "- If this sum zero, then each term has to be zero which means that there is no scattering in the data. If it is small, then it means that the data is concentrated at the mean and vice versa for large values of the variance. \n",
    "\n",
    "# Standard Deviation\n",
    "- In the calculation of variance, notice that the units of the variance and the unit of the observations are not the same. So, to remove this problem, we define standard deviation."
   ]
  },
  {
   "cell_type": "markdown",
   "id": "9869f253-6155-4928-9663-cbde55549ffe",
   "metadata": {},
   "source": [
    "Q6. What is a Venn diagram?"
   ]
  },
  {
   "cell_type": "markdown",
   "id": "2775fda5-a310-4fce-b72c-8004ebe11d9e",
   "metadata": {},
   "source": [
    "A6. A Venn diagram is an illustration that uses circles to show the relationships among things or finite groups of things. Circles that overlap have a commonality while circles that do not overlap do not share those traits.\n",
    "- Venn diagrams help to visually represent the similarities and differences between two concepts. They have long been recognized for their usefulness as educational tools. Since the mid-20th century, Venn diagrams have been used as part of the introductory logic curriculum and in elementary-level educational plans around the world."
   ]
  },
  {
   "cell_type": "markdown",
   "id": "55e1dbd1-d21b-4ac8-be2b-7d0de1813fda",
   "metadata": {},
   "source": [
    "Q7. For the two given sets A = (2,3,4,5,6,7) & B = (0,2,6,8,10). Find:\n",
    "- (i) A B\n",
    "- (ii) A ⋃ B"
   ]
  },
  {
   "cell_type": "code",
   "execution_count": 13,
   "id": "7b8ec65d-71ac-40e3-9d69-83e09a5569a6",
   "metadata": {},
   "outputs": [
    {
     "name": "stdout",
     "output_type": "stream",
     "text": [
      "{2, 6}\n"
     ]
    }
   ],
   "source": [
    "A = {2,3,4,5,6,7}\n",
    "B = {0,2,6,8,10}\n",
    "print(A.intersection(B))"
   ]
  },
  {
   "cell_type": "code",
   "execution_count": 14,
   "id": "35850402-eefd-4a4b-a28a-8b19eb58a19e",
   "metadata": {},
   "outputs": [
    {
     "name": "stdout",
     "output_type": "stream",
     "text": [
      "A U B : {0, 2, 3, 4, 5, 6, 7, 8, 10}\n"
     ]
    }
   ],
   "source": [
    "A = {2,3,4,5,6,7}\n",
    "B = {0,2,6,8,10}\n",
    "print(\"A U B :\", A.union(B))"
   ]
  },
  {
   "cell_type": "markdown",
   "id": "039a0039-d3fa-422a-a8e7-7230ad68ef8f",
   "metadata": {},
   "source": [
    "# Q8. What do you understand about skewness in data?"
   ]
  },
  {
   "cell_type": "markdown",
   "id": "cc5da06d-2f6d-4f6a-b3af-96fab5fee1cc",
   "metadata": {},
   "source": [
    "A8 : Skewness is a measure of the asymmetry of a distribution. A distribution is asymmetrical when its left and right side are not mirror images.\n",
    "\n",
    "- A distribution can have right (or positive), left (or negative), or zero skewness. A right-skewed distribution is longer on the right side of its peak, and a left-skewed distribution is longer on the left side of its peak\n",
    "\n",
    "# Zero skewness\n",
    "- When a distribution has zero skew, it is symmetrical. Its left and right sides are mirror images.\n",
    "- Normal distributions have zero skew, but they’re not the only distributions with zero skew. Any symmetrical distribution, such as a uniform distribution or some bimodal (two-peak) distributions, will also have zero skew.\n",
    "\n",
    "# Right (or positive)\n",
    "- A right-skewed distribution is longer on the right side of its peak than on its left. Right skew is also referred to as positive skew.\n",
    "- You can think of skewness in terms of tails. A tail is a long, tapering end of a distribution. It indicates that there are observations at one of the extreme ends of the distribution, but that they’re relatively infrequent. A right-skewed distribution has a long tail on its right side.\n",
    "\n",
    "# Left (or negative)\n",
    "- A left-skewed distribution is longer on the left side of its peak than on its right. In other words, a left-skewed distribution has a long tail on its left side. Left skew is also referred to as negative skew."
   ]
  },
  {
   "cell_type": "markdown",
   "id": "3794d7ba-a5c9-452d-b249-729476fd52cb",
   "metadata": {},
   "source": [
    "# Q9. If a data is right skewed then what will be the position of median with respect to mean?"
   ]
  },
  {
   "cell_type": "markdown",
   "id": "4a91695a-8c37-4c8c-8c28-ad9dacc6daea",
   "metadata": {},
   "source": [
    "A9. On a right-skewed histogram, the mean, median, and mode are all different. In this case, the mode is the highest point of the histogram, whereas the median and mean fall to the right of it (or, visually, the right of the peak). Note that the mean will always be to the right of the median."
   ]
  },
  {
   "cell_type": "markdown",
   "id": "cd3aaedb-c5dc-41fa-aaa6-5d8192cbefce",
   "metadata": {},
   "source": [
    "# Q10. Explain the difference between covariance and correlation. How are these measures used in statistical analysis?"
   ]
  },
  {
   "cell_type": "markdown",
   "id": "924e2955-6294-4d5f-b224-36073fec82ea",
   "metadata": {},
   "source": [
    "A10. Covariance and correlation are two terms that are opposed and are both used in statistics and regression analysis. Covariance shows you how the two variables differ, whereas correlation shows you how the two variables are related. Here, in this tutorial, you will explore covariance and correlation, which will help you understand the difference between covariance and correlation.\n",
    "\n",
    "# Common applications of Covariance:\n",
    "- Simulating systems with multiple correlated variables is done using Cholesky decomposition. A covariance matrix helps determine the Cholesky decomposition because it is positive semi-definite. The matrix is decomposed by the product of the lower matrix and its transpose. \n",
    "- To reduce the dimensions of large data sets, principal component analysis is used. To perform principal component analysis, an eigen decomposition is applied to the covariance matrix.\n",
    "\n",
    "# A correlation matrix is computed for three main reasons:\n",
    "- The goal when dealing with large amounts of data is to find patterns. As a result, a correlation matrix is used to look for a pattern in the data and determine whether the variables are highly correlated.\n",
    "- For use in other analyses. When excluding missing values pairwise, correlation matrices are commonly used as inputs for exploratory factor analysis, confirmatory factor analysis, structural equation models, and linear regression.\n",
    "- When checking other analyses, as a diagnostic. When it comes to linear regression, for example, a large number of correlations indicate that the linear regression estimates will be unreliable."
   ]
  },
  {
   "cell_type": "markdown",
   "id": "680f5dab-0d64-4b9b-99f9-cd21f3d0d54d",
   "metadata": {},
   "source": [
    "# Q11. What is the formula for calculating the sample mean? Provide an example calculation for a dataset."
   ]
  },
  {
   "cell_type": "markdown",
   "id": "c5529530-e3d5-4c92-81ab-186c73155038",
   "metadata": {},
   "source": [
    "A11. The sample mean formula is used to calculate the average value of the given sample data. It is necessary sometimes to calculate the average of the sample terms rather than expressing them with actual terms. The sample mean formula can be expressed as the ratio of the sum of terms to the number of terms. i.e., \n",
    "\n",
    "Sample Mean Formula\n",
    "The sample mean formula is written as\n",
    "\n",
    "Sample Mean = (Sum of terms) ÷ (Number of Terms) =\n",
    "∑xi/n =\n",
    "(x1 + x2 + x3 + ⋯ + xn)/n\n",
    "\n",
    "Where,\n",
    "\n",
    "∑xi = sum of terms\n",
    "n = number of terms\n",
    "\n",
    "Example : Find the sample mean of 60, 57, 109, 50.\n",
    "\n",
    "Solution: \n",
    "\n",
    "To find: Sample mean\n",
    "Sum of terms = 60 + 57 + 109 + 50 = 276\n",
    "Number of terms = 4\n",
    "Using sample mean formula,\n",
    "mean = (sum of terms)/(number of terms)\n",
    "mean = 276/4 = 69\n",
    "\n",
    "Answer: The sample mean of 60, 57, 109, 50 is  69."
   ]
  },
  {
   "cell_type": "markdown",
   "id": "16bd8542-b410-44d6-ba52-ec79462acf50",
   "metadata": {},
   "source": [
    "# Q12. For a normal distribution data what is the relationship between its measure of central tendency?"
   ]
  },
  {
   "cell_type": "markdown",
   "id": "16569034-9003-4820-8ccc-9f56849f25cd",
   "metadata": {},
   "source": [
    "A12 : For normally distributed data, all three measures of central tendency will give you the same answer so they can all be used.\n",
    "- In skewed distributions, the median is the best measure because it is unaffected by extreme outliers or non-symmetric distributions of scores. The mean and mode can vary in skewed distributions."
   ]
  },
  {
   "cell_type": "markdown",
   "id": "5672b584-c4f8-4d47-902c-0a1e66822904",
   "metadata": {},
   "source": [
    "# Q13. How is covariance different from correlation?"
   ]
  },
  {
   "cell_type": "markdown",
   "id": "d99a44a9-6cc6-402d-940e-8e17fbe26078",
   "metadata": {},
   "source": [
    "A13 : Both the Covariance and Correlation metrics evaluate two variables throughout the entire domain and not on a single value. The differences between them are summarized in a tabular form for quick reference. Let us look at Covariance vs Correlation.\n",
    "# Covariance\n",
    "- Covariance is a measure to indicate the extent to which two random variables change in tandem.\n",
    "- Covariance is nothing but a measure of correlation.\n",
    "- Covariance indicates the direction of the linear relationship between variables.\t\n",
    "- Covariance can vary between -∞ and +∞\t\n",
    "- Covariance is affected by the change in scale. If all the values of one variable are multiplied by a constant and all the values of another variable are multiplied, by a similar or different constant, then the covariance is changed. \t\n",
    "- Covariance assumes the units from the product of the units of the two variables.\n",
    "- Covariance of two dependent variables measures how much in real quantity (i.e. cm, kg, liters) on average they co-vary.\n",
    "- Covariance is zero in case of independent variables (if one variable moves and the other doesn’t) because then the variables do not necessarily move together.\n",
    "# Correlation\n",
    "- Correlation is a measure used to represent how strongly two random variables are related to each other.\n",
    "- Correlation refers to the scaled form of covariance.\n",
    "- Correlation on the other hand measures both the strength and direction of the linear relationship between two variables.\n",
    "- Correlation ranges between -1 and +1\n",
    "- Correlation is not influenced by the change in scale.\n",
    "- Correlation is dimensionless, i.e. It’s a unit-free measure of the relationship between variables.\n",
    "- Correlation of two dependent variables measures the proportion of how much on average these variables vary w.r.t one another.\n",
    "- Independent movements do not contribute to the total correlation. Therefore, completely independent variables have a zero correlation."
   ]
  },
  {
   "cell_type": "markdown",
   "id": "530b0bec-135c-4cc6-9c2c-77120a041a1b",
   "metadata": {},
   "source": [
    "# Q14. How do outliers affect measures of central tendency and dispersion? Provide an example."
   ]
  },
  {
   "cell_type": "markdown",
   "id": "4168e588-ab34-4e1f-afe7-3e32f696f32e",
   "metadata": {},
   "source": [
    "A14. Measures that indicate the approximate center of a distribution are called measures of central tendency. Measures that describe the spread of the data are measures of dispersion. These measures include the mean, median, mode, range, upper and lower quartiles, variance, and standard deviation.\n",
    "- Outliers Measures of central tendency and dispersion can give misleading impressions of a data set if the set contains one or more outliers. An outlier is a value that is much greater than or much less than most of the other values in a data set."
   ]
  },
  {
   "cell_type": "code",
   "execution_count": null,
   "id": "92758528-7944-4793-8858-b6944cacb820",
   "metadata": {},
   "outputs": [],
   "source": []
  }
 ],
 "metadata": {
  "kernelspec": {
   "display_name": "Python 3 (ipykernel)",
   "language": "python",
   "name": "python3"
  },
  "language_info": {
   "codemirror_mode": {
    "name": "ipython",
    "version": 3
   },
   "file_extension": ".py",
   "mimetype": "text/x-python",
   "name": "python",
   "nbconvert_exporter": "python",
   "pygments_lexer": "ipython3",
   "version": "3.10.8"
  }
 },
 "nbformat": 4,
 "nbformat_minor": 5
}
